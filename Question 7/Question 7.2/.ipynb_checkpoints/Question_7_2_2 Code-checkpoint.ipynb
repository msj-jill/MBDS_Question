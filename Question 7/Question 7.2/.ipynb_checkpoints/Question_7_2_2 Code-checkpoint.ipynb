{
 "cells": [
  {
   "cell_type": "code",
   "execution_count": 18,
   "metadata": {},
   "outputs": [],
   "source": [
    "#import library\n",
    "import pandas as pd\n",
    "import numpy as np\n",
    "import sys"
   ]
  },
  {
   "cell_type": "code",
   "execution_count": 19,
   "metadata": {},
   "outputs": [],
   "source": [
    "# define d-dimensional grid with sizes\n",
    "L1=4\n",
    "L2=8\n",
    "L3=5\n",
    "L4=9\n",
    "L5=6\n",
    "L6=7\n",
    "\n",
    "#import dataset\n",
    "z=pd.read_csv(\"input_index_7_2.txt\",sep=\"\t\")\n"
   ]
  },
  {
   "cell_type": "code",
   "execution_count": 20,
   "metadata": {},
   "outputs": [],
   "source": [
    "#By setting the maximum output row, column and other information, ensure that all data can be output \n",
    "pd.set_option('display.max_columns', None)\n",
    "pd.set_option('display.width', None)\n",
    "pd.set_option('display.max_rows', None)\n",
    "pd.set_option('display.max_colwidth', None)\n",
    "np.set_printoptions(threshold=np.inf)"
   ]
  },
  {
   "cell_type": "code",
   "execution_count": 21,
   "metadata": {},
   "outputs": [],
   "source": [
    "#put the output data into the file \n",
    "output=sys.stdout\n",
    "outputfile=open(\"D:/CODEDATA/python/AY20_MBDS_questions/Question 7/Question 7.2/output_coordinates_7_2.txt\",\"w\")\n",
    "sys.stdout=outputfile"
   ]
  },
  {
   "cell_type": "code",
   "execution_count": 22,
   "metadata": {},
   "outputs": [],
   "source": [
    "# equation (a,b)=divmod(c,d) can assign c\\\\d to a. assign c%d to b \n",
    "x6,temp1=divmod(z.values,L1*L2*L3*L4*L5)\n",
    "x5,temp2=divmod(temp1,L1*L2*L3*L4)\n",
    "x4,temp3=divmod(temp2,L1*L2*L3)\n",
    "x3,temp4=divmod(temp3,L1*L2)\n",
    "x2,x1=divmod(temp4,L1)"
   ]
  },
  {
   "cell_type": "code",
   "execution_count": 23,
   "metadata": {},
   "outputs": [],
   "source": [
    "print(\"x1\",\"\t\",\"x2\",\"\t\",\"x3\",\"\t\",\"x4\",\"\t\",\"x5\",\"\t\",\"x6\")\n",
    "for a,b,c,d,e,f in zip((x1),(x2),(x3),(x4),(x5),(x6)):\n",
    "    print(int(a),\"\t\",int(b),\"\t\",int(c),\"\t\",int(d),\"\t\",int(e),\"\t\",int(f))"
   ]
  },
  {
   "cell_type": "code",
   "execution_count": null,
   "metadata": {},
   "outputs": [],
   "source": []
  }
 ],
 "metadata": {
  "kernelspec": {
   "display_name": "Python 3",
   "language": "python",
   "name": "python3"
  },
  "language_info": {
   "codemirror_mode": {
    "name": "ipython",
    "version": 3
   },
   "file_extension": ".py",
   "mimetype": "text/x-python",
   "name": "python",
   "nbconvert_exporter": "python",
   "pygments_lexer": "ipython3",
   "version": "3.7.6"
  }
 },
 "nbformat": 4,
 "nbformat_minor": 4
}
