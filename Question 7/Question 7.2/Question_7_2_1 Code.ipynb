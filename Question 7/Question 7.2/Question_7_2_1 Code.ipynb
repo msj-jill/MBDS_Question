{
 "cells": [
  {
   "cell_type": "code",
   "execution_count": 1,
   "metadata": {},
   "outputs": [],
   "source": [
    "#import library\n",
    "import pandas as pd\n",
    "import numpy as np\n",
    "import sys"
   ]
  },
  {
   "cell_type": "code",
   "execution_count": 2,
   "metadata": {},
   "outputs": [],
   "source": [
    "# define d-dimensional grid with sizes\n",
    "L1=4\n",
    "L2=8\n",
    "L3=5\n",
    "L4=9\n",
    "L5=6\n",
    "L6=7\n",
    "\n",
    "#import dataset\n",
    "x=pd.read_csv(\"input_coordinates_7_2.txt\",sep=\"\t\")\n"
   ]
  },
  {
   "cell_type": "code",
   "execution_count": 3,
   "metadata": {},
   "outputs": [],
   "source": [
    "\n",
    "#Take the data, assign the first column of x to the abscissa and the second column to the ordinate \n",
    "x1=x.iloc[:,0]\n",
    "x2=x.iloc[:,1]\n",
    "x3=x.iloc[:,2]\n",
    "x4=x.iloc[:,3]\n",
    "x5=x.iloc[:,4]\n",
    "x6=x.iloc[:,5]"
   ]
  },
  {
   "cell_type": "code",
   "execution_count": 4,
   "metadata": {},
   "outputs": [],
   "source": [
    "#By setting the maximum output row, column and other information, ensure that all data can be output \n",
    "pd.set_option('display.max_columns', None)\n",
    "pd.set_option('display.width', None)\n",
    "pd.set_option('display.max_rows', None)\n",
    "pd.set_option('display.max_colwidth', None)\n",
    "np.set_printoptions(threshold=np.inf)"
   ]
  },
  {
   "cell_type": "code",
   "execution_count": 5,
   "metadata": {},
   "outputs": [],
   "source": [
    "#put the output data into the file \n",
    "output=sys.stdout\n",
    "outputfile=open(\"D:/CODEDATA/python/AY20_MBDS_questions/Question 7/Question 7.2/output_index_7_2.txt\",\"w\")\n",
    "sys.stdout=outputfile"
   ]
  },
  {
   "cell_type": "code",
   "execution_count": 6,
   "metadata": {},
   "outputs": [],
   "source": [
    "# equation\n",
    "z=L1*L2*L3*L4*L5*x6+L1*L2*L3*L4*x5+L1*L2*L3*x4+L1*L2*x3+L1*x2+x1"
   ]
  },
  {
   "cell_type": "code",
   "execution_count": 7,
   "metadata": {},
   "outputs": [],
   "source": [
    "print(\"index\")\n",
    "for i in z.values:\n",
    "    print(i)\n",
    "\n"
   ]
  },
  {
   "cell_type": "code",
   "execution_count": null,
   "metadata": {},
   "outputs": [],
   "source": []
  }
 ],
 "metadata": {
  "kernelspec": {
   "display_name": "Python 3",
   "language": "python",
   "name": "python3"
  },
  "language_info": {
   "codemirror_mode": {
    "name": "ipython",
    "version": 3
   },
   "file_extension": ".py",
   "mimetype": "text/x-python",
   "name": "python",
   "nbconvert_exporter": "python",
   "pygments_lexer": "ipython3",
   "version": "3.7.6"
  }
 },
 "nbformat": 4,
 "nbformat_minor": 4
}
