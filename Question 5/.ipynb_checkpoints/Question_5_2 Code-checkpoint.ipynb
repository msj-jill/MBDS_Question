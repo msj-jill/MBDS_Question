{
 "cells": [
  {
   "cell_type": "code",
   "execution_count": 33,
   "metadata": {},
   "outputs": [],
   "source": [
    "import sys\n",
    "import numpy as np\n",
    "import pandas as pd"
   ]
  },
  {
   "cell_type": "code",
   "execution_count": 34,
   "metadata": {},
   "outputs": [],
   "source": [
    "NR=139\n",
    "NB=1451\n",
    "NG=977\n",
    "NW=1072\n",
    "NY=457\n",
    "L=64*64\n",
    "\n",
    "#In fact, the solution to this problem is to add the sum of the number of beads to offset \n",
    "list=[]\n",
    "for i in range(2*NW):\n",
    "    if i%2==0:\n",
    "        list.append(\"W\")\n",
    "    else:\n",
    "        list.append(\"B\")\n",
    "\n",
    "for i in range((NB-NW)*2):\n",
    "    if i%2==0:\n",
    "        list.append(\"B\")\n",
    "    else:\n",
    "        list.append(\"G\")\n",
    "        \n",
    "for i in range(NY*2):\n",
    "    if i%2==0:\n",
    "        list.append(\"G\")\n",
    "    else:\n",
    "        list.append(\"Y\")\n",
    "\n",
    "for i in range(L-2*NW-(NB-NW)*2-NY*2):\n",
    "    if i%2==0:\n",
    "        list.append(\"G\")\n",
    "    else:\n",
    "        list.append(\"R\")\n"
   ]
  },
  {
   "cell_type": "code",
   "execution_count": 35,
   "metadata": {},
   "outputs": [],
   "source": [
    "df_list=np.mat(list)"
   ]
  },
  {
   "cell_type": "code",
   "execution_count": 36,
   "metadata": {},
   "outputs": [],
   "source": [
    "#将一维矩阵转换成64*64\n",
    "df_list.resize(64,64)\n",
    "\n",
    "#By setting the maximum output row, column and other information, ensure that all data can be output \n",
    "pd.set_option('display.max_columns', None)\n",
    "pd.set_option('display.width', None)\n",
    "pd.set_option('display.max_rows', None)\n",
    "pd.set_option('display.max_colwidth', None)\n",
    "np.set_printoptions(threshold=np.inf)"
   ]
  },
  {
   "cell_type": "code",
   "execution_count": 37,
   "metadata": {},
   "outputs": [],
   "source": [
    "#put the output data into the file \n",
    "output=sys.stdout\n",
    "outputfile=open(\"D:/CODEDATA/python/AY20_MBDS_questions/Question 5/output_question_5_2.txt\",\"w\")\n",
    "sys.stdout=outputfile"
   ]
  },
  {
   "cell_type": "code",
   "execution_count": 38,
   "metadata": {},
   "outputs": [],
   "source": [
    "print((df_list))"
   ]
  },
  {
   "cell_type": "code",
   "execution_count": null,
   "metadata": {},
   "outputs": [],
   "source": []
  }
 ],
 "metadata": {
  "kernelspec": {
   "display_name": "Python 3",
   "language": "python",
   "name": "python3"
  },
  "language_info": {
   "codemirror_mode": {
    "name": "ipython",
    "version": 3
   },
   "file_extension": ".py",
   "mimetype": "text/x-python",
   "name": "python",
   "nbconvert_exporter": "python",
   "pygments_lexer": "ipython3",
   "version": "3.7.6"
  }
 },
 "nbformat": 4,
 "nbformat_minor": 4
}
