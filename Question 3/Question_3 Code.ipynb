{
 "cells": [
  {
   "cell_type": "code",
   "execution_count": 1,
   "metadata": {},
   "outputs": [],
   "source": [
    "#import library\n",
    "import tensorflow as tf #To build neural networks \n",
    "import sys  #Mainly used to output data to txt \n",
    "import pandas as pd #data processing\n",
    "import numpy as np\n",
    "from tensorflow import keras\n",
    "import matplotlib.pyplot as plt  #draw\n",
    "%matplotlib inline"
   ]
  },
  {
   "cell_type": "code",
   "execution_count": 2,
   "metadata": {},
   "outputs": [],
   "source": [
    "#导入数据\n",
    "train_x=pd.read_csv(\"D:/CODEDATA/python/AY20_MBDS_questions/Question 3/train_data.txt\",sep ='\t',header=0)\n",
    "train_y=pd.read_csv(\"D:/CODEDATA/python/AY20_MBDS_questions/Question 3/train_truth.txt\",header=0)\n",
    "test_x=pd.read_csv(\"D:/CODEDATA/python/AY20_MBDS_questions/Question 3/test_data.txt\",sep ='\t',header=0)\n"
   ]
  },
  {
   "cell_type": "code",
   "execution_count": 3,
   "metadata": {},
   "outputs": [],
   "source": [
    "#train_x=np.array(df_train_x)\n",
    "#train_y=np.array(df_train_y)\n",
    "#test_x=np.array(df_test_x)"
   ]
  },
  {
   "cell_type": "code",
   "execution_count": 4,
   "metadata": {},
   "outputs": [
    {
     "name": "stdout",
     "output_type": "stream",
     "text": [
      "Model: \"sequential\"\n",
      "_________________________________________________________________\n",
      "Layer (type)                 Output Shape              Param #   \n",
      "=================================================================\n",
      "dense (Dense)                (None, 4)                 16        \n",
      "_________________________________________________________________\n",
      "dense_1 (Dense)              (None, 4)                 20        \n",
      "_________________________________________________________________\n",
      "dense_2 (Dense)              (None, 1)                 5         \n",
      "=================================================================\n",
      "Total params: 41\n",
      "Trainable params: 41\n",
      "Non-trainable params: 0\n",
      "_________________________________________________________________\n"
     ]
    }
   ],
   "source": [
    "#Number of layers and activation function, two hidden layers are constructed, the number of neurons is 4, and the third layer is the output function, so the number of outputs is defined as 1.\n",
    "#The first hidden layer needs to tell him the number of variables of the input x, so there is input_shape;\n",
    "#Each layer has an activation function \n",
    "\n",
    "model = tf.keras.models.Sequential([tf.keras.layers.Dense(4,input_shape=(3,),activation='tanh'),\n",
    "                                    tf.keras.layers.Dense(4,activation='tanh'),\n",
    "                                    \n",
    "                                    tf.keras.layers.Dense(1,activation='tanh')])\n",
    "\n",
    "#You can use the following sentence to see the number of hidden layers and the number of neurons \n",
    "model.summary()"
   ]
  },
  {
   "cell_type": "code",
   "execution_count": 5,
   "metadata": {},
   "outputs": [
    {
     "name": "stdout",
     "output_type": "stream",
     "text": [
      "Epoch 1/50\n",
      "313/313 [==============================] - 0s 452us/step - loss: 0.0044 - mae: 0.0424\n",
      "Epoch 2/50\n",
      "313/313 [==============================] - 0s 631us/step - loss: 8.8809e-04 - mae: 0.0224\n",
      "Epoch 3/50\n",
      "313/313 [==============================] - 0s 513us/step - loss: 4.9426e-04 - mae: 0.0167\n",
      "Epoch 4/50\n",
      "313/313 [==============================] - 0s 443us/step - loss: 4.9241e-04 - mae: 0.0171\n",
      "Epoch 5/50\n",
      "313/313 [==============================] - 0s 449us/step - loss: 4.4110e-04 - mae: 0.0159\n",
      "Epoch 6/50\n",
      "313/313 [==============================] - 0s 430us/step - loss: 3.8115e-04 - mae: 0.0149\n",
      "Epoch 7/50\n",
      "313/313 [==============================] - 0s 456us/step - loss: 3.8741e-04 - mae: 0.0151\n",
      "Epoch 8/50\n",
      "313/313 [==============================] - 0s 443us/step - loss: 3.6321e-04 - mae: 0.0146\n",
      "Epoch 9/50\n",
      "313/313 [==============================] - 0s 430us/step - loss: 4.1739e-04 - mae: 0.0159\n",
      "Epoch 10/50\n",
      "313/313 [==============================] - 0s 440us/step - loss: 3.6516e-04 - mae: 0.0146\n",
      "Epoch 11/50\n",
      "313/313 [==============================] - 0s 478us/step - loss: 4.0433e-04 - mae: 0.0156\n",
      "Epoch 12/50\n",
      "313/313 [==============================] - 0s 472us/step - loss: 3.4525e-04 - mae: 0.0142\n",
      "Epoch 13/50\n",
      "313/313 [==============================] - 0s 475us/step - loss: 3.5191e-04 - mae: 0.0144\n",
      "Epoch 14/50\n",
      "313/313 [==============================] - 0s 467us/step - loss: 3.5296e-04 - mae: 0.0144\n",
      "Epoch 15/50\n",
      "313/313 [==============================] - 0s 437us/step - loss: 3.9489e-04 - mae: 0.0153\n",
      "Epoch 16/50\n",
      "313/313 [==============================] - 0s 452us/step - loss: 3.4992e-04 - mae: 0.0143\n",
      "Epoch 17/50\n",
      "313/313 [==============================] - 0s 443us/step - loss: 3.7246e-04 - mae: 0.0149\n",
      "Epoch 18/50\n",
      "313/313 [==============================] - 0s 437us/step - loss: 3.5652e-04 - mae: 0.0145\n",
      "Epoch 19/50\n",
      "313/313 [==============================] - 0s 443us/step - loss: 3.2011e-04 - mae: 0.0136\n",
      "Epoch 20/50\n",
      "313/313 [==============================] - 0s 433us/step - loss: 3.9094e-04 - mae: 0.0153\n",
      "Epoch 21/50\n",
      "313/313 [==============================] - 0s 440us/step - loss: 3.4087e-04 - mae: 0.0141\n",
      "Epoch 22/50\n",
      "313/313 [==============================] - 0s 443us/step - loss: 3.4764e-04 - mae: 0.0143\n",
      "Epoch 23/50\n",
      "313/313 [==============================] - 0s 440us/step - loss: 3.5603e-04 - mae: 0.0145\n",
      "Epoch 24/50\n",
      "313/313 [==============================] - 0s 440us/step - loss: 3.1643e-04 - mae: 0.0136\n",
      "Epoch 25/50\n",
      "313/313 [==============================] - 0s 430us/step - loss: 3.1340e-04 - mae: 0.0135\n",
      "Epoch 26/50\n",
      "313/313 [==============================] - 0s 437us/step - loss: 2.9999e-04 - mae: 0.0131\n",
      "Epoch 27/50\n",
      "313/313 [==============================] - 0s 437us/step - loss: 2.6501e-04 - mae: 0.0124\n",
      "Epoch 28/50\n",
      "313/313 [==============================] - 0s 433us/step - loss: 2.4728e-04 - mae: 0.0120\n",
      "Epoch 29/50\n",
      "313/313 [==============================] - 0s 443us/step - loss: 2.5970e-04 - mae: 0.0123\n",
      "Epoch 30/50\n",
      "313/313 [==============================] - 0s 465us/step - loss: 2.5576e-04 - mae: 0.0124\n",
      "Epoch 31/50\n",
      "313/313 [==============================] - 0s 449us/step - loss: 2.5551e-04 - mae: 0.0123\n",
      "Epoch 32/50\n",
      "313/313 [==============================] - 0s 433us/step - loss: 2.1362e-04 - mae: 0.0112\n",
      "Epoch 33/50\n",
      "313/313 [==============================] - 0s 440us/step - loss: 2.1612e-04 - mae: 0.0113\n",
      "Epoch 34/50\n",
      "313/313 [==============================] - 0s 440us/step - loss: 2.0314e-04 - mae: 0.0111\n",
      "Epoch 35/50\n",
      "313/313 [==============================] - 0s 437us/step - loss: 2.0744e-04 - mae: 0.0112\n",
      "Epoch 36/50\n",
      "313/313 [==============================] - 0s 443us/step - loss: 2.0257e-04 - mae: 0.0112\n",
      "Epoch 37/50\n",
      "313/313 [==============================] - 0s 437us/step - loss: 2.0195e-04 - mae: 0.0111\n",
      "Epoch 38/50\n",
      "313/313 [==============================] - 0s 580us/step - loss: 1.8575e-04 - mae: 0.0107\n",
      "Epoch 39/50\n",
      "313/313 [==============================] - 0s 548us/step - loss: 1.9209e-04 - mae: 0.0109\n",
      "Epoch 40/50\n",
      "313/313 [==============================] - 0s 440us/step - loss: 1.7683e-04 - mae: 0.0104\n",
      "Epoch 41/50\n",
      "313/313 [==============================] - 0s 437us/step - loss: 2.0537e-04 - mae: 0.0113\n",
      "Epoch 42/50\n",
      "313/313 [==============================] - 0s 462us/step - loss: 1.9357e-04 - mae: 0.0109\n",
      "Epoch 43/50\n",
      "313/313 [==============================] - 0s 440us/step - loss: 2.0633e-04 - mae: 0.0114\n",
      "Epoch 44/50\n",
      "313/313 [==============================] - 0s 437us/step - loss: 1.6747e-04 - mae: 0.0101\n",
      "Epoch 45/50\n",
      "313/313 [==============================] - 0s 446us/step - loss: 1.6891e-04 - mae: 0.0102\n",
      "Epoch 46/50\n",
      "313/313 [==============================] - 0s 440us/step - loss: 1.8982e-04 - mae: 0.0109\n",
      "Epoch 47/50\n",
      "313/313 [==============================] - 0s 438us/step - loss: 1.6971e-04 - mae: 0.0103\n",
      "Epoch 48/50\n",
      "313/313 [==============================] - 0s 440us/step - loss: 1.6730e-04 - mae: 0.0103\n",
      "Epoch 49/50\n",
      "313/313 [==============================] - 0s 427us/step - loss: 1.7245e-04 - mae: 0.0104\n",
      "Epoch 50/50\n",
      "313/313 [==============================] - 0s 456us/step - loss: 1.6037e-04 - mae: 0.0100\n"
     ]
    }
   ],
   "source": [
    "#Model compilation, using adm optimization method, using mse to define the loss function, \n",
    "model.compile(tf.keras.optimizers.Adam(learning_rate=0.015),\n",
    "              loss = 'mse',\n",
    "              metrics=['mae'],\n",
    "            )\n",
    "\n",
    "#Fit training data, epoches 50 times \n",
    "history=model.fit(train_x, train_y, epochs=50)\n",
    "\n",
    "y=model.predict(test_x)"
   ]
  },
  {
   "cell_type": "code",
   "execution_count": 6,
   "metadata": {},
   "outputs": [],
   "source": [
    "#Ensure that all data can be output \n",
    "np.set_printoptions(threshold=np.inf)\n",
    "\n",
    "\n",
    "output=sys.stdout\n",
    "outputfile=open(\"D:/CODEDATA/python/AY20_MBDS_questions/Question 3/test_predicted.txt\",\"w\")\n",
    "sys.stdout=outputfile\n",
    "print(\"y\")\n",
    "print(y)"
   ]
  },
  {
   "cell_type": "code",
   "execution_count": 7,
   "metadata": {},
   "outputs": [
    {
     "data": {
      "text/plain": [
       "<function matplotlib.pyplot.legend(*args, **kwargs)>"
      ]
     },
     "execution_count": 7,
     "metadata": {},
     "output_type": "execute_result"
    },
    {
     "data": {
      "image/png": "[encoded data removed]",
      "text/plain": [
       "<Figure size 432x288 with 1 Axes>"
      ]
     },
     "metadata": {
      "needs_background": "light"
     },
     "output_type": "display_data"
    }
   ],
   "source": [
    "history.history.keys()\n",
    "\n",
    "#Draw a graph to see if the loss function decreases as the number of iterations decreases \n",
    "plt.plot(history.epoch,history.history.get('loss'),label='loss')\n",
    "plt.plot(history.epoch,history.history.get('mae'),label='mae')\n",
    "plt.legend"
   ]
  },
  {
   "cell_type": "code",
   "execution_count": null,
   "metadata": {},
   "outputs": [],
   "source": []
  }
 ],
 "metadata": {
  "kernelspec": {
   "display_name": "Python 3",
   "language": "python",
   "name": "python3"
  },
  "language_info": {
   "codemirror_mode": {
    "name": "ipython",
    "version": 3
   },
   "file_extension": ".py",
   "mimetype": "text/x-python",
   "name": "python",
   "nbconvert_exporter": "python",
   "pygments_lexer": "ipython3",
   "version": "3.7.6"
  }
 },
 "nbformat": 4,
 "nbformat_minor": 4
}
