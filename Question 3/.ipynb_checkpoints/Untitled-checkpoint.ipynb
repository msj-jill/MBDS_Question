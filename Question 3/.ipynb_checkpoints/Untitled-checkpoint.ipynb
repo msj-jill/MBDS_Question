{
 "cells": [
  {
   "cell_type": "code",
   "execution_count": 1,
   "metadata": {},
   "outputs": [],
   "source": [
    "import tensorflow as tf"
   ]
  },
  {
   "cell_type": "code",
   "execution_count": 2,
   "metadata": {},
   "outputs": [
    {
     "data": {
      "text/plain": [
       "'2.3.0'"
      ]
     },
     "execution_count": 2,
     "metadata": {},
     "output_type": "execute_result"
    }
   ],
   "source": [
    "tf.__version__"
   ]
  },
  {
   "cell_type": "code",
   "execution_count": 20,
   "metadata": {},
   "outputs": [],
   "source": [
    "import pandas as pd\n",
    "import numpy as np\n",
    "from tensorflow import keras\n",
    "import matplotlib.pyplot as plt\n",
    "%matplotlib inline"
   ]
  },
  {
   "cell_type": "code",
   "execution_count": 107,
   "metadata": {},
   "outputs": [],
   "source": [
    "#导入数据\n",
    "df_train_x=pd.read_csv(\"D:/CODEDATA/python/AY20_MBDS_questions/Question 3/train_data.txt\",sep ='\t',header=0)\n",
    "df_train_y=pd.read_csv(\"D:/CODEDATA/python/AY20_MBDS_questions/Question 3/train_truth.txt\",sep ='\t',header=0)\n",
    "df_test_x=pd.read_csv(\"D:/CODEDATA/python/AY20_MBDS_questions/Question 3/test_data.txt\",sep ='\t',header=0)\n",
    "#df_test_y=pd.read_csv(\"D:/CODEDATA/python/AY20_MBDS_questions/Question 3/train_truth.txt\",sep ='\t',header=0)\n",
    "\n",
    "\n"
   ]
  },
  {
   "cell_type": "code",
   "execution_count": 108,
   "metadata": {},
   "outputs": [
    {
     "data": {
      "text/html": [
       "<div>\n",
       "<style scoped>\n",
       "    .dataframe tbody tr th:only-of-type {\n",
       "        vertical-align: middle;\n",
       "    }\n",
       "\n",
       "    .dataframe tbody tr th {\n",
       "        vertical-align: top;\n",
       "    }\n",
       "\n",
       "    .dataframe thead th {\n",
       "        text-align: right;\n",
       "    }\n",
       "</style>\n",
       "<table border=\"1\" class=\"dataframe\">\n",
       "  <thead>\n",
       "    <tr style=\"text-align: right;\">\n",
       "      <th></th>\n",
       "      <th>x1</th>\n",
       "      <th>x2</th>\n",
       "      <th>x3</th>\n",
       "    </tr>\n",
       "  </thead>\n",
       "  <tbody>\n",
       "    <tr>\n",
       "      <th>0</th>\n",
       "      <td>0.856056</td>\n",
       "      <td>0.277770</td>\n",
       "      <td>0.152325</td>\n",
       "    </tr>\n",
       "    <tr>\n",
       "      <th>1</th>\n",
       "      <td>0.618375</td>\n",
       "      <td>0.521189</td>\n",
       "      <td>0.786821</td>\n",
       "    </tr>\n",
       "    <tr>\n",
       "      <th>2</th>\n",
       "      <td>0.264025</td>\n",
       "      <td>0.369098</td>\n",
       "      <td>0.029402</td>\n",
       "    </tr>\n",
       "    <tr>\n",
       "      <th>3</th>\n",
       "      <td>0.501569</td>\n",
       "      <td>0.674020</td>\n",
       "      <td>0.761820</td>\n",
       "    </tr>\n",
       "    <tr>\n",
       "      <th>4</th>\n",
       "      <td>0.946291</td>\n",
       "      <td>0.612288</td>\n",
       "      <td>0.468844</td>\n",
       "    </tr>\n",
       "    <tr>\n",
       "      <th>...</th>\n",
       "      <td>...</td>\n",
       "      <td>...</td>\n",
       "      <td>...</td>\n",
       "    </tr>\n",
       "    <tr>\n",
       "      <th>9995</th>\n",
       "      <td>0.185641</td>\n",
       "      <td>0.754491</td>\n",
       "      <td>0.771866</td>\n",
       "    </tr>\n",
       "    <tr>\n",
       "      <th>9996</th>\n",
       "      <td>0.949095</td>\n",
       "      <td>0.788024</td>\n",
       "      <td>0.813596</td>\n",
       "    </tr>\n",
       "    <tr>\n",
       "      <th>9997</th>\n",
       "      <td>0.914020</td>\n",
       "      <td>0.305232</td>\n",
       "      <td>0.346534</td>\n",
       "    </tr>\n",
       "    <tr>\n",
       "      <th>9998</th>\n",
       "      <td>0.386482</td>\n",
       "      <td>0.309705</td>\n",
       "      <td>0.383828</td>\n",
       "    </tr>\n",
       "    <tr>\n",
       "      <th>9999</th>\n",
       "      <td>0.671811</td>\n",
       "      <td>0.343931</td>\n",
       "      <td>0.358312</td>\n",
       "    </tr>\n",
       "  </tbody>\n",
       "</table>\n",
       "<p>10000 rows × 3 columns</p>\n",
       "</div>"
      ],
      "text/plain": [
       "            x1        x2        x3\n",
       "0     0.856056  0.277770  0.152325\n",
       "1     0.618375  0.521189  0.786821\n",
       "2     0.264025  0.369098  0.029402\n",
       "3     0.501569  0.674020  0.761820\n",
       "4     0.946291  0.612288  0.468844\n",
       "...        ...       ...       ...\n",
       "9995  0.185641  0.754491  0.771866\n",
       "9996  0.949095  0.788024  0.813596\n",
       "9997  0.914020  0.305232  0.346534\n",
       "9998  0.386482  0.309705  0.383828\n",
       "9999  0.671811  0.343931  0.358312\n",
       "\n",
       "[10000 rows x 3 columns]"
      ]
     },
     "execution_count": 108,
     "metadata": {},
     "output_type": "execute_result"
    }
   ],
   "source": [
    "df_train_x"
   ]
  },
  {
   "cell_type": "code",
   "execution_count": 109,
   "metadata": {},
   "outputs": [],
   "source": [
    "train_x=np.array(df_train_x)\n",
    "train_y=np.array(df_train_y)\n",
    "test_x=np.array(df_test_x)"
   ]
  },
  {
   "cell_type": "code",
   "execution_count": null,
   "metadata": {},
   "outputs": [],
   "source": []
  },
  {
   "cell_type": "code",
   "execution_count": null,
   "metadata": {},
   "outputs": [],
   "source": []
  },
  {
   "cell_type": "code",
   "execution_count": 110,
   "metadata": {},
   "outputs": [
    {
     "name": "stdout",
     "output_type": "stream",
     "text": [
      "Model: \"sequential_13\"\n",
      "_________________________________________________________________\n",
      "Layer (type)                 Output Shape              Param #   \n",
      "=================================================================\n",
      "dense_49 (Dense)             (None, 4)                 16        \n",
      "_________________________________________________________________\n",
      "dense_50 (Dense)             (None, 4)                 20        \n",
      "_________________________________________________________________\n",
      "dense_51 (Dense)             (None, 1)                 5         \n",
      "=================================================================\n",
      "Total params: 41\n",
      "Trainable params: 41\n",
      "Non-trainable params: 0\n",
      "_________________________________________________________________\n"
     ]
    }
   ],
   "source": [
    "#层数和激活函数\n",
    "model = tf.keras.models.Sequential([#tf.keras.layers.Flatten(), \n",
    "                                    tf.keras.layers.Dense(4,input_shape=(3,),activation='tanh'),\n",
    "                                    tf.keras.layers.Dense(4,activation='tanh'),\n",
    "                                    \n",
    "                                    tf.keras.layers.Dense(1,activation='tanh')])\n",
    "\n",
    "model.summary()"
   ]
  },
  {
   "cell_type": "code",
   "execution_count": 111,
   "metadata": {},
   "outputs": [
    {
     "name": "stdout",
     "output_type": "stream",
     "text": [
      "Epoch 1/20\n",
      "313/313 [==============================] - 0s 452us/step - loss: 0.0098 - mae: 0.0480\n",
      "Epoch 2/20\n",
      "313/313 [==============================] - 0s 452us/step - loss: 6.6985e-04 - mae: 0.0191\n",
      "Epoch 3/20\n",
      "313/313 [==============================] - 0s 456us/step - loss: 4.2173e-04 - mae: 0.0152\n",
      "Epoch 4/20\n",
      "313/313 [==============================] - 0s 456us/step - loss: 3.1887e-04 - mae: 0.0135\n",
      "Epoch 5/20\n",
      "313/313 [==============================] - 0s 462us/step - loss: 2.6820e-04 - mae: 0.0125\n",
      "Epoch 6/20\n",
      "313/313 [==============================] - 0s 484us/step - loss: 2.3361e-04 - mae: 0.0118\n",
      "Epoch 7/20\n",
      "313/313 [==============================] - 0s 491us/step - loss: 2.3844e-04 - mae: 0.0120\n",
      "Epoch 8/20\n",
      "313/313 [==============================] - 0s 503us/step - loss: 2.2443e-04 - mae: 0.0116\n",
      "Epoch 9/20\n",
      "313/313 [==============================] - 0s 484us/step - loss: 2.0032e-04 - mae: 0.0110\n",
      "Epoch 10/20\n",
      "313/313 [==============================] - 0s 440us/step - loss: 1.8859e-04 - mae: 0.0108\n",
      "Epoch 11/20\n",
      "313/313 [==============================] - 0s 621us/step - loss: 1.8611e-04 - mae: 0.0107\n",
      "Epoch 12/20\n",
      "313/313 [==============================] - 0s 526us/step - loss: 1.9742e-04 - mae: 0.0111\n",
      "Epoch 13/20\n",
      "313/313 [==============================] - 0s 443us/step - loss: 1.8820e-04 - mae: 0.0109\n",
      "Epoch 14/20\n",
      "313/313 [==============================] - 0s 446us/step - loss: 1.8907e-04 - mae: 0.0109\n",
      "Epoch 15/20\n",
      "313/313 [==============================] - 0s 437us/step - loss: 2.2418e-04 - mae: 0.0120\n",
      "Epoch 16/20\n",
      "313/313 [==============================] - 0s 456us/step - loss: 1.7106e-04 - mae: 0.0103\n",
      "Epoch 17/20\n",
      "313/313 [==============================] - 0s 440us/step - loss: 1.9638e-04 - mae: 0.0111\n",
      "Epoch 18/20\n",
      "313/313 [==============================] - 0s 456us/step - loss: 2.0266e-04 - mae: 0.0113\n",
      "Epoch 19/20\n",
      "313/313 [==============================] - 0s 449us/step - loss: 1.7945e-04 - mae: 0.0106\n",
      "Epoch 20/20\n",
      "313/313 [==============================] - 0s 449us/step - loss: 1.6505e-04 - mae: 0.0102\n"
     ]
    },
    {
     "data": {
      "text/plain": [
       "array([[0.55665505],\n",
       "       [0.5137056 ],\n",
       "       [0.7478954 ],\n",
       "       ...,\n",
       "       [0.0801208 ],\n",
       "       [0.47029746],\n",
       "       [0.4053628 ]], dtype=float32)"
      ]
     },
     "execution_count": 111,
     "metadata": {},
     "output_type": "execute_result"
    }
   ],
   "source": [
    "#模型编译 \n",
    "model.compile(tf.keras.optimizers.Adam(learning_rate=0.02),\n",
    "              loss = 'mse',\n",
    "              metrics=['mae'],\n",
    "            )\n",
    "\n",
    "#fit 拟合训练数据\n",
    "history=model.fit(train_x, train_y, epochs=20)\n",
    "\n",
    "#evaluate 评估测试数据\n",
    "#model.evaluate(test_images, test_labels)\n",
    "\n",
    "model.predict(test_x)"
   ]
  },
  {
   "cell_type": "code",
   "execution_count": 112,
   "metadata": {},
   "outputs": [
    {
     "data": {
      "text/plain": [
       "dict_keys(['loss', 'mae'])"
      ]
     },
     "execution_count": 112,
     "metadata": {},
     "output_type": "execute_result"
    }
   ],
   "source": [
    "history.history.keys()\n"
   ]
  },
  {
   "cell_type": "code",
   "execution_count": 113,
   "metadata": {},
   "outputs": [
    {
     "data": {
      "text/plain": [
       "<function matplotlib.pyplot.legend(*args, **kwargs)>"
      ]
     },
     "execution_count": 113,
     "metadata": {},
     "output_type": "execute_result"
    },
    {
     "data": {
      "image/png": "[encoded data removed]",
      "text/plain": [
       "<Figure size 432x288 with 1 Axes>"
      ]
     },
     "metadata": {
      "needs_background": "light"
     },
     "output_type": "display_data"
    }
   ],
   "source": [
    "plt.plot(history.epoch,history.history.get('loss'),label='loss')\n",
    "#plt.plot(history.epoch,history.history.get('acc'),label='mae')\n",
    "plt.legend"
   ]
  },
  {
   "cell_type": "code",
   "execution_count": null,
   "metadata": {},
   "outputs": [],
   "source": []
  }
 ],
 "metadata": {
  "kernelspec": {
   "display_name": "Python 3",
   "language": "python",
   "name": "python3"
  },
  "language_info": {
   "codemirror_mode": {
    "name": "ipython",
    "version": 3
   },
   "file_extension": ".py",
   "mimetype": "text/x-python",
   "name": "python",
   "nbconvert_exporter": "python",
   "pygments_lexer": "ipython3",
   "version": "3.7.6"
  }
 },
 "nbformat": 4,
 "nbformat_minor": 4
}
