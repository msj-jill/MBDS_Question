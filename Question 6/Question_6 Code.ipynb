{
 "cells": [
  {
   "cell_type": "code",
   "execution_count": 1,
   "metadata": {},
   "outputs": [],
   "source": [
    "# import library\n",
    "import pylab\n",
    "import pandas as pd\n",
    "import sys\n",
    "import matplotlib.pyplot as plt"
   ]
  },
  {
   "cell_type": "code",
   "execution_count": 2,
   "metadata": {},
   "outputs": [],
   "source": [
    "#import dataset\n",
    "data=pd.read_csv(\"D:/CODEDATA/python/AY20_MBDS_questions/Question 6/input_question_6_polygon\",sep=\" \",header=None)\n",
    "data_test=pd.read_csv(\"D:/CODEDATA/python/AY20_MBDS_questions/Question 6/input_question_6_points\",sep=\" \",header=None)"
   ]
  },
  {
   "cell_type": "code",
   "execution_count": 3,
   "metadata": {},
   "outputs": [],
   "source": [
    "# Data preprocessing \n",
    "X=data.iloc[:,0]\n",
    "y=data.iloc[:,1]\n",
    "test_x=data_test.iloc[:,0]\n",
    "test_y=data_test.iloc[:,1]\n",
    "number=10"
   ]
  },
  {
   "cell_type": "code",
   "execution_count": 4,
   "metadata": {},
   "outputs": [
    {
     "data": {
      "text/plain": [
       "[<matplotlib.lines.Line2D at 0x26d4287eb88>]"
      ]
     },
     "execution_count": 4,
     "metadata": {},
     "output_type": "execute_result"
    },
    {
     "data": {
      "image/png": "[encoded data removed]",
      "text/plain": [
       "<Figure size 432x288 with 1 Axes>"
      ]
     },
     "metadata": {
      "needs_background": "light"
     },
     "output_type": "display_data"
    }
   ],
   "source": [
    "#Plot the coordinates and observe the shape of the polygon \n",
    "plt.plot(X, y)"
   ]
  },
  {
   "cell_type": "code",
   "execution_count": 6,
   "metadata": {},
   "outputs": [],
   "source": [
    "#put the output data into the file \n",
    "output=sys.stdout\n",
    "outputfile=open(\"D:/CODEDATA/python/AY20_MBDS_questions/Question 6/output_question_6.txt\",\"w\")\n",
    "sys.stdout=outputfile"
   ]
  },
  {
   "cell_type": "code",
   "execution_count": 7,
   "metadata": {},
   "outputs": [
    {
     "data": {
      "text/plain": [
       "'\\nExplanation of if statement\\nThe previous formula of \"and \"is to judge whether the point is between the ordinates of two points in the y direction, if it is the right side and judge, if not, return false directly\\nThe formula behind \" and \"judges whether the point is located in the x direction \\n\\nTwo-point linear equation :\\n\\n(y-y1)/(y2-y1)=（x-x1）/(x2-x1)\\nso, x=(x2-x1)*(y-y1)/(y2-y1)+x1\\n\\n\\nWhat this expression means is to draw a polygon at random, set a point at random, \\nand then draw a line horizontally through this point, first count how many times the horizontal line intersects the edge of the polygon,\\n(or exclude those that are not Intersecting edges, the first judgment condition), \\nand then count whether the number of times the horizontal line crosses the polygon is an odd number,\\nif it is an odd number, then the point is inside the polygon, if it is an even number, it is outside the polygon. \\n\\nhttps://www.cnblogs.com/anningwang/p/7581545.html\\n'"
      ]
     },
     "execution_count": 7,
     "metadata": {},
     "output_type": "execute_result"
    }
   ],
   "source": [
    "def pnpoly (nvert, vertx, verty,testx,testy):\n",
    "    i=0\n",
    "    c=True\n",
    "    j= nvert-1\n",
    "    \n",
    "    for i in range(nvert) :\n",
    "        if (((verty[i]>=testy) != (verty[j]>testy)) \n",
    "            and (testx <= (vertx[j]-vertx[i]) * (testy-verty[i]) / (verty[j]-verty[i]) + vertx[i])):\n",
    "            c =not c\n",
    "        j = i\n",
    "    return c;\n",
    "\"\"\"\n",
    "Explanation of if statement\n",
    "The previous formula of \"and \"is to judge whether the point is between the ordinates of two points in the y direction, if it is the right side and judge, if not, return false directly\n",
    "The formula behind \" and \"judges whether the point is located in the x direction \n",
    "\n",
    "Two-point linear equation :\n",
    "\n",
    "(y-y1)/(y2-y1)=（x-x1）/(x2-x1)\n",
    "so, x=(x2-x1)*(y-y1)/(y2-y1)+x1\n",
    "\n",
    "\n",
    "What this expression means is to draw a polygon at random, set a point at random, \n",
    "and then draw a line horizontally through this point, first count how many times the horizontal line intersects the edge of the polygon,\n",
    "(or exclude those that are not Intersecting edges, the first judgment condition), \n",
    "and then count whether the number of times the horizontal line crosses the polygon is an odd number,\n",
    "if it is an odd number, then the point is inside the polygon, if it is an even number, it is outside the polygon. \n",
    "\n",
    "https://www.cnblogs.com/anningwang/p/7581545.html\n",
    "\"\"\""
   ]
  },
  {
   "cell_type": "code",
   "execution_count": 8,
   "metadata": {},
   "outputs": [],
   "source": [
    "# use for,test every coordinate\n",
    "\n",
    "for tx,ty in zip((test_x),(test_y)):\n",
    "    e=True\n",
    "    if (tx < min(X) or tx > max(X) or ty < min(y) or ty > max(y)):#First, determine whether the abscissa of the point to be tested is smaller than the minimum abscissa of the polygon,or whether the abscissa of the point to be tested is greater than the maximum abscissa of the polygon, or whether the ordinate of the point to be tested is smaller than the minimum ordinate of the polygon. or Whether the ordinate of the tested point is greater than the maximum ordinate of the polygon \n",
    "        e=False       #If it meets, it will directly return false and \"outside\"\n",
    "    if e==False:\n",
    "        print(tx,ty,\"outside\")\n",
    "    elif e==True:    # If it doesn't meet, use pnpoly function to test the coordinate\n",
    "        if (pnpoly(number,X,y,tx,ty))==True:print(tx,ty ,\"outside\") \n",
    "        elif (pnpoly(number,X,y,tx,ty))==False:print(tx,ty,\"inside\")"
   ]
  },
  {
   "cell_type": "code",
   "execution_count": null,
   "metadata": {},
   "outputs": [],
   "source": []
  }
 ],
 "metadata": {
  "kernelspec": {
   "display_name": "Python 3",
   "language": "python",
   "name": "python3"
  },
  "language_info": {
   "codemirror_mode": {
    "name": "ipython",
    "version": 3
   },
   "file_extension": ".py",
   "mimetype": "text/x-python",
   "name": "python",
   "nbconvert_exporter": "python",
   "pygments_lexer": "ipython3",
   "version": "3.7.6"
  }
 },
 "nbformat": 4,
 "nbformat_minor": 4
}
